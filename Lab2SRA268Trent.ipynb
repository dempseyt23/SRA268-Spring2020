{
  "nbformat": 4,
  "nbformat_minor": 0,
  "metadata": {
    "colab": {
      "name": " Lab2SRA268Trent.ipynb",
      "provenance": [],
      "collapsed_sections": [],
      "include_colab_link": true
    },
    "kernelspec": {
      "name": "python3",
      "display_name": "Python 3"
    }
  },
  "cells": [
    {
      "cell_type": "markdown",
      "metadata": {
        "id": "view-in-github",
        "colab_type": "text"
      },
      "source": [
        "<a href=\"https://colab.research.google.com/github/dempseyt23/SRA268-Spring2020/blob/master/Lab2SRA268Trent.ipynb\" target=\"_parent\"><img src=\"https://colab.research.google.com/assets/colab-badge.svg\" alt=\"Open In Colab\"/></a>"
      ]
    },
    {
      "cell_type": "markdown",
      "metadata": {
        "id": "6sOc4Uyr4U-Z",
        "colab_type": "text"
      },
      "source": [
        "## Graph Types"
      ]
    },
    {
      "cell_type": "markdown",
      "metadata": {
        "id": "0zZdVLAd5CYr",
        "colab_type": "text"
      },
      "source": [
        "Creator\n",
        "* Trent Dempsey "
      ]
    },
    {
      "cell_type": "markdown",
      "metadata": {
        "id": "g-r6Clq45Hn4",
        "colab_type": "text"
      },
      "source": [
        "### Deviation\n"
      ]
    },
    {
      "cell_type": "markdown",
      "metadata": {
        "id": "2gorxo6E7A0t",
        "colab_type": "text"
      },
      "source": [
        "![alt text](https://raw.githubusercontent.com/dempseyt23/SRA268-Spring2020/master/images/Deviation.png)"
      ]
    },
    {
      "cell_type": "markdown",
      "metadata": {
        "id": "w6bZ_NEi7E3w",
        "colab_type": "text"
      },
      "source": [
        "#### What is this telling us?"
      ]
    },
    {
      "cell_type": "markdown",
      "metadata": {
        "id": "95L-spaC7QHF",
        "colab_type": "text"
      },
      "source": [
        "With this deviation we are looking at the amount of points that were accumulated by the winning teams depending on what day the games were played. It is shown in a way that the average line is at zero so it can be seen how many points are scored each individual day above and below the average. Overall there are more points scored on Sunday, Thursday, Friday, and Saturday then on Monday, Tuesday and Wednesday. We are learning what days produce the most points for the winning teams."
      ]
    },
    {
      "cell_type": "markdown",
      "metadata": {
        "id": "YgXyXjmz7cDP",
        "colab_type": "text"
      },
      "source": [
        "### Correlation\n"
      ]
    },
    {
      "cell_type": "markdown",
      "metadata": {
        "id": "8RpRa_tjOQaU",
        "colab_type": "text"
      },
      "source": [
        "![alt text](https://raw.githubusercontent.com/dempseyt23/SRA268-Spring2020/master/images/Correlation.png)"
      ]
    },
    {
      "cell_type": "markdown",
      "metadata": {
        "id": "dljjONNi7jmj",
        "colab_type": "text"
      },
      "source": [
        "#### What is this telling us?"
      ]
    },
    {
      "cell_type": "markdown",
      "metadata": {
        "id": "PwZEZrFB7laG",
        "colab_type": "text"
      },
      "source": [
        "This correlation graph is telling us and showing us the correlation between the average amount of points for the losing team compared to the average amount for the winning team. We see a positive coorelation meaning that the higher the average of winning points the higher the average of losing points there is going to be. If a team won and had a score of 100 then the loser will have a score that is closer to that winning amount. The trend line also helps to show how the relationship is a positive one."
      ]
    },
    {
      "cell_type": "markdown",
      "metadata": {
        "id": "MqUdI-uL7r2s",
        "colab_type": "text"
      },
      "source": [
        "### Ranking\n"
      ]
    },
    {
      "cell_type": "markdown",
      "metadata": {
        "id": "pJQxyURNOYtK",
        "colab_type": "text"
      },
      "source": [
        "![alt text](https://raw.githubusercontent.com/dempseyt23/SRA268-Spring2020/master/images/Ranking.png)"
      ]
    },
    {
      "cell_type": "markdown",
      "metadata": {
        "id": "lCAYtfza7yTq",
        "colab_type": "text"
      },
      "source": [
        "#### What is this telling us?"
      ]
    },
    {
      "cell_type": "markdown",
      "metadata": {
        "id": "MyuciD277ygU",
        "colab_type": "text"
      },
      "source": [
        "Ranking is showing us the individual seed or ranking of each team depending on the year that they are playing. The win seed depicts the seed that the winning team was considered. There is also another part of this graph where the color gets darker depending on how many points was scored by that team when they were the winning seed. This can be seen all throughout the years. It also shows all of the seeds and separates it into seeds and year. This allows you to see all of the winning team names, their seed for each indivdual year, and how many points they scored while at that seed for that year."
      ]
    },
    {
      "cell_type": "markdown",
      "metadata": {
        "id": "dGDGl8-G7y8Y",
        "colab_type": "text"
      },
      "source": [
        "### Distribution\n"
      ]
    },
    {
      "cell_type": "markdown",
      "metadata": {
        "id": "Pf5DI1PXOcEK",
        "colab_type": "text"
      },
      "source": [
        "![alt text](https://raw.githubusercontent.com/dempseyt23/SRA268-Spring2020/master/images/Distribution.png)"
      ]
    },
    {
      "cell_type": "markdown",
      "metadata": {
        "id": "_6SOzhrQ76zH",
        "colab_type": "text"
      },
      "source": [
        "#### What is this telling us?"
      ]
    },
    {
      "cell_type": "markdown",
      "metadata": {
        "id": "HBWqsS_g767h",
        "colab_type": "text"
      },
      "source": [
        "Distribution is showing us the losing teams name in relation to the sum of points that they lost by. It also shows which game lost which amount of points. The box and whisker plots help to show the average amount of points lost, and give a represention of the highest and lowest any team lost by. It can show the median amount of points a team lost by as well as the upper and lower limits."
      ]
    },
    {
      "cell_type": "markdown",
      "metadata": {
        "id": "wQsDThk677Fy",
        "colab_type": "text"
      },
      "source": [
        "### Change over Time\n"
      ]
    },
    {
      "cell_type": "markdown",
      "metadata": {
        "id": "UpxbiYSxOdZq",
        "colab_type": "text"
      },
      "source": [
        "![alt text](https://raw.githubusercontent.com/dempseyt23/SRA268-Spring2020/master/images/ChangeOverTime.png)"
      ]
    },
    {
      "cell_type": "markdown",
      "metadata": {
        "id": "mpfsmmgi7_Vj",
        "colab_type": "text"
      },
      "source": [
        "#### What is this telling us?"
      ]
    },
    {
      "cell_type": "markdown",
      "metadata": {
        "id": "rYLXoMMO7_di",
        "colab_type": "text"
      },
      "source": [
        "Change over time is giving us a representation of how the amount of win points versus the amount of loss points has changed throughout the years. It is interesting to look at because it almost seems as if there is a slight curve but the amount of win points always stays close to the amount of losing points. Looking at the graph shows how even as the years pass the sum of lose points and sum of win points follow the same curves over the years."
      ]
    },
    {
      "cell_type": "markdown",
      "metadata": {
        "id": "lFwiHoE-7_jZ",
        "colab_type": "text"
      },
      "source": [
        "### Magnitude\n"
      ]
    },
    {
      "cell_type": "markdown",
      "metadata": {
        "id": "wAVrxvOiOedK",
        "colab_type": "text"
      },
      "source": [
        "![alt text](https://raw.githubusercontent.com/dempseyt23/SRA268-Spring2020/master/images/Magnitude.png)"
      ]
    },
    {
      "cell_type": "markdown",
      "metadata": {
        "id": "QGG7XYG88Eii",
        "colab_type": "text"
      },
      "source": [
        "#### What is this telling us?"
      ]
    },
    {
      "cell_type": "markdown",
      "metadata": {
        "id": "VS7uGa0l8Eos",
        "colab_type": "text"
      },
      "source": [
        "The magnitude graph gives a good represenation of the comparison between the sum of the win points and lose points next to eachother over the years. This is interesting because it allows us to see that even as the years are going on the amount of win and lose points are staying relatively the same. Having the win points right next to the lose points allows us to follow the relationship and see the magnitude. I would of thought that as the years went on the split between win points and lose points would be larger but it stays somewhat the same."
      ]
    },
    {
      "cell_type": "markdown",
      "metadata": {
        "id": "bEKFxP8R8Evk",
        "colab_type": "text"
      },
      "source": [
        "### Part-to-Whole\n"
      ]
    },
    {
      "cell_type": "markdown",
      "metadata": {
        "id": "wJq2UqfnOf4y",
        "colab_type": "text"
      },
      "source": [
        "![alt text](https://raw.githubusercontent.com/dempseyt23/SRA268-Spring2020/master/images/PartToWhole.png)"
      ]
    },
    {
      "cell_type": "markdown",
      "metadata": {
        "id": "PNSd3wlp8UZH",
        "colab_type": "text"
      },
      "source": [
        "#### What is this telling us?"
      ]
    },
    {
      "cell_type": "markdown",
      "metadata": {
        "id": "y9tb_QRA8aqt",
        "colab_type": "text"
      },
      "source": [
        "The Part-To-Whole graph is showing a couple of things. One of the first things it shows is the winning team name along with the mascot for that team. In addition to this it shows the sum of the win points based on the size and color of the box it is in. The larger the box the more win points and the darker the box also shows the most win points. It is an interesting way to look at the data, but it can also be tough because it is hard to see the team names and mascots of the teams that did not have that many points. This could also be a good thing because it allows the viewer to focus on the more dominant teams."
      ]
    }
  ]
}