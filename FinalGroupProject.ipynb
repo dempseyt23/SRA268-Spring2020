{
  "nbformat": 4,
  "nbformat_minor": 0,
  "metadata": {
    "colab": {
      "name": "FinalGroupProject.ipynb",
      "provenance": [],
      "collapsed_sections": []
    },
    "kernelspec": {
      "name": "python3",
      "display_name": "Python 3"
    }
  },
  "cells": [
    {
      "cell_type": "markdown",
      "metadata": {
        "id": "Kw5PZBtl0Ob6",
        "colab_type": "text"
      },
      "source": [
        "# Crime Level in the United States\n",
        "\n"
      ]
    },
    {
      "cell_type": "markdown",
      "metadata": {
        "id": "iXWAmSVB0Rno",
        "colab_type": "text"
      },
      "source": [
        "Contributors:\n",
        "\n",
        "\n",
        "*   Bradley Bartusik\n",
        "*   Mikayla Casey\n",
        "*   Trent Dempsey\n",
        "*   Name\n",
        "\n",
        "\n"
      ]
    },
    {
      "cell_type": "markdown",
      "metadata": {
        "id": "WpaW-i5l0ZHn",
        "colab_type": "text"
      },
      "source": [
        "## Background"
      ]
    },
    {
      "cell_type": "markdown",
      "metadata": {
        "id": "E4VKsOvP0eev",
        "colab_type": "text"
      },
      "source": [
        "With this project, our group is looking to examine crime on a national level, in particular on a state-by-state basis. We will be looking at the links between crime, income differences, population, and level of enforcement on a state level. We are seeking to present this in a dynamic, easy to understand format so that viewers can easily understand the relationship between crime levels and the region of the United States. Specifically, we will be examining crime as a whole as well as breaking the category down into subgroups to examine violent crime as compared to nonviolent crime, as well as sorting the levels into more narrow subgroups by specific type of crime (assault, robbery, etc.). We also hope to include some factors beyond specific crime type in order to demonstrate outside influencers of crime by state. \n",
        "\n",
        "As described by many of the sources we explored, comparing crime levels by state is useless without a broader understanding of the variety of environments in which the crimes occurred, with differences in government presence as well as demographic, social, and economic disparities. Thus, we will be exploring the factors that contribute to the social and economic environments of each state, shaped by our assumptions about what factors may - directly and indirectly - affect the level of crime across the country. By exploring different data sources with these assumptions in mind, we will be able to provide a broad, base level understanding of national crime statistics and how other factors may influence these factors.\n"
      ]
    },
    {
      "cell_type": "markdown",
      "metadata": {
        "id": "7d8vfcGufV0_",
        "colab_type": "text"
      },
      "source": [
        "### Goal"
      ]
    },
    {
      "cell_type": "markdown",
      "metadata": {
        "id": "e1jKSGTjfY2H",
        "colab_type": "text"
      },
      "source": [
        "The goal of this project is to graphically display the relationship between crime statistics - both violent and nonviolent - with a variety of potentially influencing factors including income level, debt level, population, and number of enforcement agencies in each state."
      ]
    },
    {
      "cell_type": "markdown",
      "metadata": {
        "id": "GOxy_TvCfi54",
        "colab_type": "text"
      },
      "source": [
        "### Assumptions"
      ]
    },
    {
      "cell_type": "markdown",
      "metadata": {
        "id": "cw1v_1MMfnAR",
        "colab_type": "text"
      },
      "source": [
        "\n",
        "* Income level will influence crime level\n",
        "* Income level will influence crime type\n",
        "* Location of the state will influence type of crime\n",
        "* Location of the state will influence level of crime\n",
        "* Population of the state will influence type of crime\n",
        "* Population of the state will influence level of crime\n",
        "* There will be a positive correlation between population and income\n",
        "* There will be a positive correlation between crime and population\n",
        "* Number of reporting agencies will influence the level of crime\n",
        "* Number of reporting agencies will influence the type of crime. \n",
        "\n"
      ]
    },
    {
      "cell_type": "markdown",
      "metadata": {
        "id": "jKGILpu7gWr6",
        "colab_type": "text"
      },
      "source": [
        "### Data Sources"
      ]
    },
    {
      "cell_type": "markdown",
      "metadata": {
        "id": "uwCao7AtgbNn",
        "colab_type": "text"
      },
      "source": [
        "https://en.wikipedia.org/wiki/List_of_U.S._states_and_territories_by_income \n",
        "\n",
        "https://www.ucrdatatool.gov/Search/Crime/Local/OneYearofData.cfm\n",
        "\n",
        "https://www.ucrdatatool.gov/Search/Crime/State/RunCrimeOneYearofData.cfm\n",
        "\n",
        "We selected these links because they were focused directly on our topic. We chose to focus on crime, and show the relation between crime and other statistics. Our data shows everything on a state level so we are able to see which states have more of a specific crime in addition to other demographics. We wanted to show the crime in relationship to income, debt, population, location, and number of reporting agencies. The UCR provides information on each state and the total reported amount of each category of crime in those states. We were able to pick the states separately or have them all together. The UCR also was able to sum them all up and give us an overall outlook on the entire United States. The UCR does not however provide information regarding income, debt. It shows the population but in order to compare the crime rates to the income or debt that is associated with the states we needed more data. This is why we used the wikipedia list because they had all the information we needed in terms of different demographics for income. In terms of gathering all of the data and joining it, the UCR data was able to be joined and this could be done by manually putting inputs in. This allowed for us to join the data related to crime and income that way it was visible as to whether there was any relation between a specific crime and a certain amount of income. We wanted to be able to see if higher income meant higher crime rates.\n"
      ]
    },
    {
      "cell_type": "markdown",
      "metadata": {
        "id": "kDgSdoQUgg2Z",
        "colab_type": "text"
      },
      "source": [
        "#### Sources"
      ]
    },
    {
      "cell_type": "markdown",
      "metadata": {
        "id": "dFzYIi0Agi2_",
        "colab_type": "text"
      },
      "source": [
        "List of U.S. states and territories by income\n",
        "https://en.wikipedia.org/wiki/List_of_U.S._states_and_territories_by_income \n",
        "\n",
        "Uniform Crime Reporting Statistics \n",
        "https://www.ucrdatatool.gov/Search/Crime/Local/OneYearofData.cfm\n",
        "\n",
        "Uniform Crime Reporting Statistics\n",
        "https://www.ucrdatatool.gov/Search/Crime/State/RunCrimeOneYearofData.cfm\n"
      ]
    },
    {
      "cell_type": "code",
      "metadata": {
        "id": "knG79vNP0Q0u",
        "colab_type": "code",
        "outputId": "91857b50-5144-4d53-f082-bea2e2edf4fd",
        "colab": {
          "base_uri": "https://localhost:8080/",
          "height": 1000
        }
      },
      "source": [
        "import IPython\n",
        "IPython.display.HTML(\"<<div class='tableauPlaceholder' id='viz1587950541237' style='position: relative'><noscript><a href='#'><img alt=' ' src='https:&#47;&#47;public.tableau.com&#47;static&#47;images&#47;Fi&#47;FinalGroupproject&#47;Sheet1&#47;1_rss.png' style='border: none' /></a></noscript><object class='tableauViz'  style='display:none;'><param name='host_url' value='https%3A%2F%2Fpublic.tableau.com%2F' /> <param name='embed_code_version' value='3' /> <param name='site_root' value='' /><param name='name' value='FinalGroupproject&#47;Sheet1' /><param name='tabs' value='no' /><param name='toolbar' value='yes' /><param name='static_image' value='https:&#47;&#47;public.tableau.com&#47;static&#47;images&#47;Fi&#47;FinalGroupproject&#47;Sheet1&#47;1.png' /> <param name='animate_transition' value='yes' /><param name='display_static_image' value='yes' /><param name='display_spinner' value='yes' /><param name='display_overlay' value='yes' /><param name='display_count' value='yes' /></object></div>                <script type='text/javascript'>                    var divElement = document.getElementById('viz1587950541237');                    var vizElement = divElement.getElementsByTagName('object')[0];                    vizElement.style.width='100%';vizElement.style.height=(divElement.offsetWidth*0.75)+'px';                    var scriptElement = document.createElement('script');                    scriptElement.src = 'https://public.tableau.com/javascripts/api/viz_v1.js';                    vizElement.parentNode.insertBefore(scriptElement, vizElement);                </script>\")\n",
        "IPython.display.HTML(\"<div class='tableauPlaceholder' id='viz1587950420315' style='position: relative'><noscript><a href='#'><img alt=' ' src='https:&#47;&#47;public.tableau.com&#47;static&#47;images&#47;Fi&#47;FinalGroupproject&#47;Sheet2&#47;1_rss.png' style='border: none' /></a></noscript><object class='tableauViz'  style='display:none;'><param name='host_url' value='https%3A%2F%2Fpublic.tableau.com%2F' /> <param name='embed_code_version' value='3' /> <param name='site_root' value='' /><param name='name' value='FinalGroupproject&#47;Sheet2' /><param name='tabs' value='no' /><param name='toolbar' value='yes' /><param name='static_image' value='https:&#47;&#47;public.tableau.com&#47;static&#47;images&#47;Fi&#47;FinalGroupproject&#47;Sheet2&#47;1.png' /> <param name='animate_transition' value='yes' /><param name='display_static_image' value='yes' /><param name='display_spinner' value='yes' /><param name='display_overlay' value='yes' /><param name='display_count' value='yes' /></object></div>                <script type='text/javascript'>                    var divElement = document.getElementById('viz1587950420315');                    var vizElement = divElement.getElementsByTagName('object')[0];                    vizElement.style.width='100%';vizElement.style.height=(divElement.offsetWidth*0.75)+'px';                    var scriptElement = document.createElement('script');                    scriptElement.src = 'https://public.tableau.com/javascripts/api/viz_v1.js';                    vizElement.parentNode.insertBefore(scriptElement, vizElement);                </script>\") "
      ],
      "execution_count": 0,
      "outputs": [
        {
          "output_type": "execute_result",
          "data": {
            "text/html": [
              "<div class='tableauPlaceholder' id='viz1587950420315' style='position: relative'><noscript><a href='#'><img alt=' ' src='https:&#47;&#47;public.tableau.com&#47;static&#47;images&#47;Fi&#47;FinalGroupproject&#47;Sheet2&#47;1_rss.png' style='border: none' /></a></noscript><object class='tableauViz'  style='display:none;'><param name='host_url' value='https%3A%2F%2Fpublic.tableau.com%2F' /> <param name='embed_code_version' value='3' /> <param name='site_root' value='' /><param name='name' value='FinalGroupproject&#47;Sheet2' /><param name='tabs' value='no' /><param name='toolbar' value='yes' /><param name='static_image' value='https:&#47;&#47;public.tableau.com&#47;static&#47;images&#47;Fi&#47;FinalGroupproject&#47;Sheet2&#47;1.png' /> <param name='animate_transition' value='yes' /><param name='display_static_image' value='yes' /><param name='display_spinner' value='yes' /><param name='display_overlay' value='yes' /><param name='display_count' value='yes' /></object></div>                <script type='text/javascript'>                    var divElement = document.getElementById('viz1587950420315');                    var vizElement = divElement.getElementsByTagName('object')[0];                    vizElement.style.width='100%';vizElement.style.height=(divElement.offsetWidth*0.75)+'px';                    var scriptElement = document.createElement('script');                    scriptElement.src = 'https://public.tableau.com/javascripts/api/viz_v1.js';                    vizElement.parentNode.insertBefore(scriptElement, vizElement);                </script>"
            ],
            "text/plain": [
              "<IPython.core.display.HTML object>"
            ]
          },
          "metadata": {
            "tags": []
          },
          "execution_count": 7
        }
      ]
    },
    {
      "cell_type": "code",
      "metadata": {
        "id": "oBqgX5O4PR6F",
        "colab_type": "code",
        "colab": {}
      },
      "source": [
        ""
      ],
      "execution_count": 0,
      "outputs": []
    },
    {
      "cell_type": "code",
      "metadata": {
        "colab_type": "code",
        "outputId": "3d69b6e2-3477-4139-eb92-84a9a5ed845b",
        "id": "ZDV0Ho27PqUS",
        "colab": {
          "base_uri": "https://localhost:8080/",
          "height": 1000
        }
      },
      "source": [
        "import IPython\n",
        "IPython.display.HTML(\"<<div class='tableauPlaceholder' id='viz1587950541237' style='position: relative'><noscript><a href='#'><img alt=' ' src='https:&#47;&#47;public.tableau.com&#47;static&#47;images&#47;Fi&#47;FinalGroupproject&#47;Sheet1&#47;1_rss.png' style='border: none' /></a></noscript><object class='tableauViz'  style='display:none;'><param name='host_url' value='https%3A%2F%2Fpublic.tableau.com%2F' /> <param name='embed_code_version' value='3' /> <param name='site_root' value='' /><param name='name' value='FinalGroupproject&#47;Sheet1' /><param name='tabs' value='no' /><param name='toolbar' value='yes' /><param name='static_image' value='https:&#47;&#47;public.tableau.com&#47;static&#47;images&#47;Fi&#47;FinalGroupproject&#47;Sheet1&#47;1.png' /> <param name='animate_transition' value='yes' /><param name='display_static_image' value='yes' /><param name='display_spinner' value='yes' /><param name='display_overlay' value='yes' /><param name='display_count' value='yes' /></object></div>                <script type='text/javascript'>                    var divElement = document.getElementById('viz1587950541237');                    var vizElement = divElement.getElementsByTagName('object')[0];                    vizElement.style.width='100%';vizElement.style.height=(divElement.offsetWidth*0.75)+'px';                    var scriptElement = document.createElement('script');                    scriptElement.src = 'https://public.tableau.com/javascripts/api/viz_v1.js';                    vizElement.parentNode.insertBefore(scriptElement, vizElement);                </script>\")\n",
        "IPython.display.HTML(\"<div class='tableauPlaceholder' id='viz1587950541237' style='position: relative'><noscript><a href='#'><img alt=' ' src='https:&#47;&#47;public.tableau.com&#47;static&#47;images&#47;Fi&#47;FinalGroupproject&#47;Sheet1&#47;1_rss.png' style='border: none' /></a></noscript><object class='tableauViz'  style='display:none;'><param name='host_url' value='https%3A%2F%2Fpublic.tableau.com%2F' /> <param name='embed_code_version' value='3' /> <param name='site_root' value='' /><param name='name' value='FinalGroupproject&#47;Sheet1' /><param name='tabs' value='no' /><param name='toolbar' value='yes' /><param name='static_image' value='https:&#47;&#47;public.tableau.com&#47;static&#47;images&#47;Fi&#47;FinalGroupproject&#47;Sheet1&#47;1.png' /> <param name='animate_transition' value='yes' /><param name='display_static_image' value='yes' /><param name='display_spinner' value='yes' /><param name='display_overlay' value='yes' /><param name='display_count' value='yes' /></object></div>                <script type='text/javascript'>                    var divElement = document.getElementById('viz1587950541237');                    var vizElement = divElement.getElementsByTagName('object')[0];                    vizElement.style.width='100%';vizElement.style.height=(divElement.offsetWidth*0.75)+'px';                    var scriptElement = document.createElement('script');                    scriptElement.src = 'https://public.tableau.com/javascripts/api/viz_v1.js';                    vizElement.parentNode.insertBefore(scriptElement, vizElement);                </script>\") "
      ],
      "execution_count": 0,
      "outputs": [
        {
          "output_type": "execute_result",
          "data": {
            "text/html": [
              "<div class='tableauPlaceholder' id='viz1587950541237' style='position: relative'><noscript><a href='#'><img alt=' ' src='https:&#47;&#47;public.tableau.com&#47;static&#47;images&#47;Fi&#47;FinalGroupproject&#47;Sheet1&#47;1_rss.png' style='border: none' /></a></noscript><object class='tableauViz'  style='display:none;'><param name='host_url' value='https%3A%2F%2Fpublic.tableau.com%2F' /> <param name='embed_code_version' value='3' /> <param name='site_root' value='' /><param name='name' value='FinalGroupproject&#47;Sheet1' /><param name='tabs' value='no' /><param name='toolbar' value='yes' /><param name='static_image' value='https:&#47;&#47;public.tableau.com&#47;static&#47;images&#47;Fi&#47;FinalGroupproject&#47;Sheet1&#47;1.png' /> <param name='animate_transition' value='yes' /><param name='display_static_image' value='yes' /><param name='display_spinner' value='yes' /><param name='display_overlay' value='yes' /><param name='display_count' value='yes' /></object></div>                <script type='text/javascript'>                    var divElement = document.getElementById('viz1587950541237');                    var vizElement = divElement.getElementsByTagName('object')[0];                    vizElement.style.width='100%';vizElement.style.height=(divElement.offsetWidth*0.75)+'px';                    var scriptElement = document.createElement('script');                    scriptElement.src = 'https://public.tableau.com/javascripts/api/viz_v1.js';                    vizElement.parentNode.insertBefore(scriptElement, vizElement);                </script>"
            ],
            "text/plain": [
              "<IPython.core.display.HTML object>"
            ]
          },
          "metadata": {
            "tags": []
          },
          "execution_count": 9
        }
      ]
    },
    {
      "cell_type": "markdown",
      "metadata": {
        "id": "qcFak2v7g3jt",
        "colab_type": "text"
      },
      "source": [
        "## Dashboard (5)"
      ]
    },
    {
      "cell_type": "code",
      "metadata": {
        "id": "ffm_f_NkcfLb",
        "colab_type": "code",
        "colab": {}
      },
      "source": [
        ""
      ],
      "execution_count": 0,
      "outputs": []
    },
    {
      "cell_type": "markdown",
      "metadata": {
        "id": "SvWfnlDjnos1",
        "colab_type": "text"
      },
      "source": [
        "## Conclusion"
      ]
    },
    {
      "cell_type": "markdown",
      "metadata": {
        "id": "rfWefr2gnxOG",
        "colab_type": "text"
      },
      "source": [
        "In conclusion there were many different realizations that could be made through the data we collected and visualized on tableau. We decided to take a look at crime data throughout the United States. We were able to get individual data for each about the population and the number of crimes committed. These crimes were also broken down so we were able to see the different types of crime including whether or not they were violent. What we can see through the data is that there is a direct correlation between crime and population. The relationship is as we thought it may be and that is that the more crime there is the denser the population is. This makes sense because the more people there are the more crime there is going to be.\n",
        "\n",
        "In addition to crime we wanted to take a look at the data that shows income in comparison to crime. We could potentially show income relative to population but it is safe to assume that the higher the population, the more income there is going to be in total. In terms of crime and income it is not really an easy thing to say that the more income there is results in more crime because income can depend on many different aspects. When we looked into income in comparison to crime it showed what we had imagined. The higher the income the more crime there would be, but again we believe we got this result because total income per state is relevant to the state's population. Something that would be interesting to look at in the future would be to get a rough idea of the specific crime in relation to income areas. By this I mean if we take an individual county in a state and assess how much income is coming from that county then we can see if any specific crime relates to those higher or lower income areas. An example of this would be higher income areas eperiencing more serious crimes like murder or arson versus lower income areas experiencing a lot of theft and robbery.  \n",
        "\n",
        "We took a look at population and crime, and we also took a look at income compared to crime but the opposite of that would be looking at debt in comparison to crime. When we looked at debt it was a lot harder to visualize and gather data on and then graph. It is safe to say that the more debt that is in an area the more crime there is going to be, but it can be misconstrued because if someone who has a large income also has a large debt then the results will be odd. Although we did not get a good look at debt we took a look at reporting agencies and how many there were in each state. We figured that the larger the population the more reporting agencies there would be because there would be more crime and that was exactly the case. Overall most of the data we looked at seemed to have a positive correlation to what was being used in comparison. Although there are positive correlations, a lot of the information is dependent on other factors so the correlation does not necessarily imply causation \n"
      ]
    },
    {
      "cell_type": "code",
      "metadata": {
        "id": "GiYDwrUYn0k0",
        "colab_type": "code",
        "colab": {}
      },
      "source": [
        ""
      ],
      "execution_count": 0,
      "outputs": []
    }
  ]
}