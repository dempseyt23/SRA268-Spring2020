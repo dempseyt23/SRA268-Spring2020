{
  "nbformat": 4,
  "nbformat_minor": 0,
  "metadata": {
    "colab": {
      "name": "Startingnotebook.ipynb",
      "provenance": [],
      "authorship_tag": "ABX9TyN3kNjMg+27ikhbI5GtpMP7",
      "include_colab_link": true
    },
    "kernelspec": {
      "name": "python3",
      "display_name": "Python 3"
    }
  },
  "cells": [
    {
      "cell_type": "markdown",
      "metadata": {
        "id": "view-in-github",
        "colab_type": "text"
      },
      "source": [
        "<a href=\"https://colab.research.google.com/github/dempseyt23/SRA268-Spring2020/blob/master/Startingnotebook.ipynb\" target=\"_parent\"><img src=\"https://colab.research.google.com/assets/colab-badge.svg\" alt=\"Open In Colab\"/></a>"
      ]
    },
    {
      "cell_type": "code",
      "metadata": {
        "id": "8R7Au9he4t9m",
        "colab_type": "code",
        "colab": {
          "base_uri": "https://localhost:8080/",
          "height": 34
        },
        "outputId": "172966df-bba1-4ef1-fd9c-c77d7fc6a3ce"
      },
      "source": [
        "2+2\n"
      ],
      "execution_count": 1,
      "outputs": [
        {
          "output_type": "execute_result",
          "data": {
            "text/plain": [
              "4"
            ]
          },
          "metadata": {
            "tags": []
          },
          "execution_count": 1
        }
      ]
    },
    {
      "cell_type": "markdown",
      "metadata": {
        "id": "DkVlD1HF6DHy",
        "colab_type": "text"
      },
      "source": [
        "![image of wingsuit](https://raw.githubusercontent.com/dempseyt23/SRA268-Spring2020/master/wingsuit.jpg)"
      ]
    }
  ]
}